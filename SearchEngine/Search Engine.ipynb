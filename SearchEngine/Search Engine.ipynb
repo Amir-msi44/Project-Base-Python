{
 "cells": [
  {
   "cell_type": "markdown",
   "id": "d81c3a18-e07d-4780-9ba5-b9a72ac72459",
   "metadata": {},
   "source": [
    "# Crawling"
   ]
  },
  {
   "cell_type": "code",
   "execution_count": 16,
   "id": "07bd6113-f99d-4ca6-8131-f89a1207f441",
   "metadata": {
    "tags": []
   },
   "outputs": [],
   "source": [
    "from pathlib import Path\n",
    "data = {}\n",
    "for doc_path in Path('src/data/documents').iterdir():\n",
    "    \n",
    "    if doc_path.suffix != '.txt':\n",
    "        continue\n",
    "    \n",
    "    with open(doc_path) as f:\n",
    "        doc_name = doc_path.stem.replace('_',' ').title()\n",
    "        data[doc_name] = f.read()"
   ]
  },
  {
   "cell_type": "markdown",
   "id": "f27e9212-c70d-414b-abf5-9e8dfb16ab1d",
   "metadata": {},
   "source": [
    "# Text PreProcess"
   ]
  },
  {
   "cell_type": "code",
   "execution_count": 17,
   "id": "17712c21-dfde-4376-a48e-0f8fbaa9da57",
   "metadata": {
    "tags": []
   },
   "outputs": [],
   "source": [
    "from abc import ABC, abstractmethod\n",
    "import string\n",
    "\n",
    "class TextProcessor(ABC):\n",
    "    @abstractmethod\n",
    "    def transform(self, text):\n",
    "        pass\n",
    "    \n",
    "class ConvertCase(TextProcessor):\n",
    "    def __init__(self, casing='lower'):\n",
    "        self.casing = casing\n",
    "        \n",
    "    def transform(self, text):\n",
    "        if self.casing == 'lower':\n",
    "            return text.lower()\n",
    "        elif self.casing == 'upper':\n",
    "            return text.upper()\n",
    "        elif self.casing == 'title':\n",
    "            return text.title()\n",
    "    \n",
    "class RemoveDigit(TextProcessor):\n",
    "    def transform(self, text):\n",
    "        return ''.join(char if not char.isdigit() else ' ' for char in text)\n",
    "    \n",
    "class RemoveSpace(TextProcessor):\n",
    "    def transform(self, text):\n",
    "        return ' '.join(text.split())\n",
    "    \n",
    "class RemovePunkt(TextProcessor):\n",
    "    def transform(self, text):\n",
    "        return ''.join(char if not char in string.punctuation else ' ' for char in text)\n",
    "    \n",
    "class TextPipeline:\n",
    "    def __init__(self, *args):\n",
    "        self.transformers = args\n",
    "\n",
    "    def transform(self, text):\n",
    "        for i in self.transformers:\n",
    "            text = i.transform(text)\n",
    "        return text\n",
    "    \n",
    "    def __str__(self):\n",
    "        transformers = ' -> '.join([tf.__class__.__name__ for tf in self.transformers])\n",
    "        return f'Pipeline: [{transformers}]'\n",
    "    \n"
   ]
  },
  {
   "cell_type": "code",
   "execution_count": 18,
   "id": "ac4556ab-a0fa-4293-bc63-6b1bacafa5ca",
   "metadata": {
    "tags": []
   },
   "outputs": [],
   "source": [
    "pipe = TextPipeline(ConvertCase(), RemoveDigit(), RemovePunkt(), RemoveSpace())    "
   ]
  },
  {
   "cell_type": "markdown",
   "id": "6e588d38-1ab4-41a3-98f2-f63b0fdd1a60",
   "metadata": {
    "tags": []
   },
   "source": [
    "# Indexing"
   ]
  },
  {
   "cell_type": "code",
   "execution_count": 25,
   "id": "703d281c-e15c-4a69-b695-92c4983fda26",
   "metadata": {},
   "outputs": [],
   "source": [
    "stop_words = open('src/data/stop_words.txt').readlines()\n",
    "stop_words = list(map(str.strip, stop_words))\n",
    "stop_words = list(map(pipe.transform, stop_words))\n",
    "\n",
    "index = {}\n",
    "\n",
    "for doc_name, content in data.items():\n",
    "    for word in content.split():\n",
    "        word = pipe.transform(word)\n",
    "        \n",
    "        # Empty Words\n",
    "        if not word:\n",
    "            continue\n",
    "\n",
    "        # Ignore Stop Words\n",
    "        if word in stop_words:\n",
    "            continue\n",
    "\n",
    "        # Add to index\n",
    "        if index.get(word):\n",
    "            index[word].add(doc_name)\n",
    "        else:\n",
    "            index[word] = {doc_name, }\n",
    "\n"
   ]
  },
  {
   "cell_type": "markdown",
   "id": "35e8fe2a-5f1a-4780-8d9c-e2b40fbf9f6b",
   "metadata": {},
   "source": [
    "# Search"
   ]
  },
  {
   "cell_type": "code",
   "execution_count": 26,
   "id": "47d7a3a1-7207-488d-ae1d-2b1dbcad5eeb",
   "metadata": {
    "tags": []
   },
   "outputs": [
    {
     "name": "stdin",
     "output_type": "stream",
     "text": [
      "Search to find a doc (q to quit): q\n"
     ]
    }
   ],
   "source": [
    "from termcolor import colored\n",
    "from collections import Counter\n",
    "\n",
    "def print_success(text):\n",
    "    print(colored(text, 'green'))\n",
    "    \n",
    "TOP_N = 3\n",
    "while True:\n",
    "    # Get user input\n",
    "    search_input = input('Search to find a doc (q to quit):')\n",
    "    if search_input.lower() == 'q':\n",
    "        break\n",
    "    search_input = pipe.transform(search_input)\n",
    "\n",
    "    # Get input tokens\n",
    "    search_tokens = search_input.split()\n",
    "\n",
    "    # Get relevant documents\n",
    "    docs = []\n",
    "    for token in search_tokens:\n",
    "        docs.extend(index.get(token, []))\n",
    "        \n",
    "    # Rank documents\n",
    "    docs_counter = Counter(docs).most_common()\n",
    "    docs = [d[0] for d in docs_counter][:TOP_N]\n",
    "    \n",
    "    # Print the results\n",
    "    for doc in docs:\n",
    "        print_success(f'- {doc}')"
   ]
  }
 ],
 "metadata": {
  "kernelspec": {
   "display_name": "Python 3 (ipykernel)",
   "language": "python",
   "name": "python3"
  },
  "language_info": {
   "codemirror_mode": {
    "name": "ipython",
    "version": 3
   },
   "file_extension": ".py",
   "mimetype": "text/x-python",
   "name": "python",
   "nbconvert_exporter": "python",
   "pygments_lexer": "ipython3",
   "version": "3.10.13"
  }
 },
 "nbformat": 4,
 "nbformat_minor": 5
}
