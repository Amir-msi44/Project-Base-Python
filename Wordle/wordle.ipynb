{
 "cells": [
  {
   "cell_type": "code",
   "execution_count": 2,
   "id": "d55600f5-853d-492a-8210-57700c002c6d",
   "metadata": {
    "tags": []
   },
   "outputs": [],
   "source": [
    "from termcolor import colored\n",
    "from collections import Counter"
   ]
  },
  {
   "cell_type": "markdown",
   "id": "4a16089d-1057-4ad7-9c4b-02ff2e85f882",
   "metadata": {},
   "source": [
    "# Build Data"
   ]
  },
  {
   "cell_type": "code",
   "execution_count": 3,
   "id": "d0b87f01-e249-4ad5-9b74-e4f66ccb8bbc",
   "metadata": {
    "tags": []
   },
   "outputs": [],
   "source": [
    "def generate_word_frequency(file_path, word_len: int = 5, limit: int = 1000):\n",
    "    # Build Data\n",
    "    words = []\n",
    "    with open(file_path) as f:\n",
    "        for line in f:\n",
    "            word, frequency = line.split(', ')\n",
    "            words.append((word, int(frequency)))\n",
    "\n",
    "    # Filter Data\n",
    "    words = list(filter(lambda w: len(w[0]) == word_len, words))\n",
    "\n",
    "    # Sort Data\n",
    "    words = sorted(words, key=lambda w: w[1], reverse=True)\n",
    "\n",
    "    # Limit\n",
    "    words = words[:limit]\n",
    "    \n",
    "    #Drop Frequency\n",
    "    words = [w[0] for w in words]\n",
    "    \n",
    "    return words"
   ]
  },
  {
   "cell_type": "code",
   "execution_count": 4,
   "id": "957a7514-079d-46e9-b553-f91b91435677",
   "metadata": {
    "tags": []
   },
   "outputs": [],
   "source": [
    "file_path = \"./words_frequency.txt\""
   ]
  },
  {
   "cell_type": "code",
   "execution_count": 5,
   "id": "a208c15c-668c-4617-9c7e-9904deb535ae",
   "metadata": {
    "tags": []
   },
   "outputs": [],
   "source": [
    "word_len = 5 \n",
    "limit = 1000"
   ]
  },
  {
   "cell_type": "code",
   "execution_count": 6,
   "id": "96688ce0-2631-4a95-9216-44b0def9026c",
   "metadata": {
    "tags": []
   },
   "outputs": [],
   "source": [
    "words = generate_word_frequency(file_path)"
   ]
  },
  {
   "cell_type": "markdown",
   "id": "984310a2-3190-490a-92ca-f42f4692be2c",
   "metadata": {},
   "source": [
    "# Select a random word"
   ]
  },
  {
   "cell_type": "code",
   "execution_count": 7,
   "id": "ba921563-add8-4982-941b-9b8337e63985",
   "metadata": {
    "tags": []
   },
   "outputs": [],
   "source": [
    "import random\n",
    "random.seed(42)\n",
    "word = random.choice(words).upper()"
   ]
  },
  {
   "cell_type": "markdown",
   "id": "aca2a77a-81e7-4cf9-952b-070c0a062462",
   "metadata": {},
   "source": [
    "# Wordle"
   ]
  },
  {
   "cell_type": "code",
   "execution_count": 8,
   "id": "5732bb3d-03e2-4b3a-b640-07616b85b11f",
   "metadata": {
    "tags": []
   },
   "outputs": [],
   "source": [
    "def print_success(text, end='\\n'):\n",
    "    print(colored(text, \"green\", attrs=[\"reverse\"]), end=end)\n",
    "    \n",
    "def print_warning(text, end='\\n'):\n",
    "    print(colored(text, \"yellow\", attrs=[\"reverse\"]), end=end)\n",
    "    \n",
    "def print_error(text, end='\\n'):\n",
    "    print(colored(text, \"red\", attrs=[\"reverse\"]), end=end)\n",
    "    "
   ]
  },
  {
   "cell_type": "code",
   "execution_count": 13,
   "id": "957f1b28-b1d3-40b6-a490-491a454bbdd0",
   "metadata": {
    "tags": []
   },
   "outputs": [
    {
     "name": "stdin",
     "output_type": "stream",
     "text": [
      "Please enter a 5 letter word (or q to exit) q\n"
     ]
    }
   ],
   "source": [
    "num_try = 6\n",
    "word_counter = Counter(word)\n",
    "\n",
    "while num_try:\n",
    "    guess_word = input(f'Please enter a {word_len} letter word (or q to exit)').upper()\n",
    "    if guess_word == 'Q':\n",
    "        break\n",
    "    \n",
    "    # Word lenght\n",
    "    if len(guess_word) != word_len:\n",
    "        print(f'Word is not a {word_len} letter word. You entered {len(guess_word)}!')\n",
    "        continue\n",
    "        \n",
    "    #Validity Check\n",
    "    if guess_word.lower() not in words:\n",
    "        print_warning('Word is not valid')\n",
    "        continue\n",
    "       \n",
    "    #Check Char\n",
    "    guess_counter = Counter()\n",
    "    for w_letter, g_letter in zip(word, guess_word):\n",
    "        if w_letter == g_letter:\n",
    "            print_success(g_letter, end='')\n",
    "            guess_counter[g_letter] += 1\n",
    "        elif g_letter in word and g_letter != w_letter:\n",
    "            if guess_counter[g_letter] < word_counter[g_letter]:\n",
    "                print_warning(g_letter, end='')\n",
    "                guess_counter[g_letter] += 1\n",
    "            else:\n",
    "                print_error(g_letter, end='') \n",
    "        else:\n",
    "            print_error(g_letter, end='')\n",
    "    print()\n",
    "        \n",
    "    if word == guess_word:\n",
    "        print_success('Congrats!')\n",
    "        break\n",
    "        \n",
    "    num_try -= 1\n",
    "    if num_try == 0:\n",
    "        print(f'You Lost!\\nCorrect Answer is {word}')"
   ]
  }
 ],
 "metadata": {
  "kernelspec": {
   "display_name": "Python 3 (ipykernel)",
   "language": "python",
   "name": "python3"
  },
  "language_info": {
   "codemirror_mode": {
    "name": "ipython",
    "version": 3
   },
   "file_extension": ".py",
   "mimetype": "text/x-python",
   "name": "python",
   "nbconvert_exporter": "python",
   "pygments_lexer": "ipython3",
   "version": "3.10.13"
  }
 },
 "nbformat": 4,
 "nbformat_minor": 5
}
