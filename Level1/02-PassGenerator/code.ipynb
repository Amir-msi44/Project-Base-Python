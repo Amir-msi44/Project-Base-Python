{
 "cells": [
  {
   "cell_type": "code",
   "execution_count": 62,
   "id": "96ffd082-ae7c-4c48-8168-afc0d0e91cf8",
   "metadata": {
    "tags": []
   },
   "outputs": [],
   "source": [
    "import random\n",
    "import string"
   ]
  },
  {
   "cell_type": "code",
   "execution_count": 63,
   "id": "161763bb-6959-49b3-846b-26974787d435",
   "metadata": {
    "tags": []
   },
   "outputs": [],
   "source": [
    "from abc import ABC, abstractmethod\n",
    "\n",
    "class PasswordGenerator(ABC):\n",
    "    @abstractmethod\n",
    "    def generate(self):\n",
    "        pass"
   ]
  },
  {
   "cell_type": "code",
   "execution_count": 69,
   "id": "1af82550-34e9-4d2a-9eaa-c7dfd51177a3",
   "metadata": {
    "tags": []
   },
   "outputs": [],
   "source": [
    "class PinGenerator(PasswordGenerator):\n",
    "    def __init__(self, length):\n",
    "        self.length = length\n",
    "        \n",
    "    def generate(self):\n",
    "        return ''.join([random.choice(string.digits) for _ in range(self.length)])"
   ]
  },
  {
   "cell_type": "code",
   "execution_count": 78,
   "id": "b9a3cd2f-efb0-47fe-aefc-4334bc5f7d88",
   "metadata": {
    "tags": []
   },
   "outputs": [],
   "source": [
    "class RandomPassGenerator(PasswordGenerator):\n",
    "    def __init__(self, length, include_numbers=False, include_symbols=False):\n",
    "        self.length = length\n",
    "        self.characters = string.ascii_letters\n",
    "        if include_numbers:\n",
    "            self.characters += string.digits\n",
    "        if include_symbols:\n",
    "            self.characters += string.punctuation\n",
    "        \n",
    "    def generate(self):\n",
    "        return ''.join([random.choice(self.characters) for _ in range(self.length)])"
   ]
  },
  {
   "cell_type": "code",
   "execution_count": 147,
   "id": "a5994bd5-14b2-4441-a703-60ee5edd6b20",
   "metadata": {
    "tags": []
   },
   "outputs": [],
   "source": [
    "import nltk\n",
    "\n",
    "\n",
    "class MemorablePassGenerator(PasswordGenerator):\n",
    "    def __init__(\n",
    "        self,\n",
    "        num_of_words: int,\n",
    "        capitalize: bool = False,\n",
    "        separator_type: str = '-',\n",
    "        vocabulary: list = None\n",
    "    ):\n",
    "        self.num_of_words = num_of_words\n",
    "        self.capitalize = capitalize\n",
    "        self.separator = separator_type\n",
    "        if vocabulary is None:\n",
    "            self.vocabulary = nltk.corpus.words.words()\n",
    "        \n",
    "    def generate(self):\n",
    "        password_words = [random.choice(self.vocabulary) for _ in range(self.num_of_words)]\n",
    "        if self.capitalize:\n",
    "            password_words = [word.upper() if random.choice([True, False]) else word.lower() for word in password_words]\n",
    "        \n",
    "        return self.separator.join(password_words)"
   ]
  },
  {
   "cell_type": "code",
   "execution_count": 148,
   "id": "78f581e9-9f96-4a1e-a949-8c035534f931",
   "metadata": {
    "tags": []
   },
   "outputs": [],
   "source": [
    "obj = MemorablePassGenerator(4, capitalize=True)"
   ]
  },
  {
   "cell_type": "code",
   "execution_count": 149,
   "id": "5aae7640-ab09-4809-aac8-5344ad48bee1",
   "metadata": {
    "tags": []
   },
   "outputs": [
    {
     "data": {
      "text/plain": [
       "'hydrometry-headshake-unfavorably-CUSTOM'"
      ]
     },
     "execution_count": 149,
     "metadata": {},
     "output_type": "execute_result"
    }
   ],
   "source": [
    "obj.generate()"
   ]
  },
  {
   "cell_type": "code",
   "execution_count": null,
   "id": "1f028050-0d76-41e9-9d28-09513f409fa0",
   "metadata": {},
   "outputs": [],
   "source": []
  },
  {
   "cell_type": "code",
   "execution_count": null,
   "id": "0e429e62-f8f1-4456-bbd2-6395eaa8d293",
   "metadata": {},
   "outputs": [],
   "source": []
  }
 ],
 "metadata": {
  "kernelspec": {
   "display_name": "Python 3 (ipykernel)",
   "language": "python",
   "name": "python3"
  },
  "language_info": {
   "codemirror_mode": {
    "name": "ipython",
    "version": 3
   },
   "file_extension": ".py",
   "mimetype": "text/x-python",
   "name": "python",
   "nbconvert_exporter": "python",
   "pygments_lexer": "ipython3",
   "version": "3.10.13"
  }
 },
 "nbformat": 4,
 "nbformat_minor": 5
}
