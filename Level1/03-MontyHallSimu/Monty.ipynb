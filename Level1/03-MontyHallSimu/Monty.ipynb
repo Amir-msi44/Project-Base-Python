{
 "cells": [
  {
   "cell_type": "code",
   "execution_count": 65,
   "metadata": {},
   "outputs": [],
   "source": [
    "import random"
   ]
  },
  {
   "cell_type": "code",
   "execution_count": 116,
   "metadata": {},
   "outputs": [],
   "source": [
    "def monty_hall(switch_doors):\n",
    "    doors = ['car', 'goat', 'goat']\n",
    "    random.shuffle(doors)\n",
    "    \n",
    "    initial_choice = random.choice(range(3))\n",
    "    \n",
    "    if switch_doors:\n",
    "        doors_revealed = [i for i in range(3) if i != initial_choice and doors[i] != 'car']\n",
    "        door_revealed = random.choice(doors_revealed)\n",
    "        final_choice = [i for i in range(3) if i != initial_choice and i != door_revealed][0]\n",
    "    else:\n",
    "        final_choice = initial_choice \n",
    "    \n",
    "    return doors[final_choice] == 'car'\n"
   ]
  },
  {
   "cell_type": "code",
   "execution_count": 117,
   "metadata": {},
   "outputs": [],
   "source": [
    "def simulate_game(num_games):\n",
    "    num_wins_with_switching = sum([monty_hall(True) for _ in range(num_games)])\n",
    "    num_wins_without_switching = sum([monty_hall(False) for _ in range(num_games)])\n",
    "    return num_wins_without_switching / num_games , num_wins_with_switching / num_games \n"
   ]
  },
  {
   "cell_type": "code",
   "execution_count": 123,
   "metadata": {},
   "outputs": [
    {
     "data": {
      "text/plain": [
       "(0.3372, 0.6693)"
      ]
     },
     "execution_count": 123,
     "metadata": {},
     "output_type": "execute_result"
    }
   ],
   "source": [
    "simulate_game(10000)"
   ]
  },
  {
   "cell_type": "code",
   "execution_count": null,
   "metadata": {},
   "outputs": [],
   "source": []
  },
  {
   "cell_type": "code",
   "execution_count": null,
   "metadata": {},
   "outputs": [],
   "source": []
  }
 ],
 "metadata": {
  "kernelspec": {
   "display_name": "Python 3",
   "language": "python",
   "name": "python3"
  },
  "language_info": {
   "codemirror_mode": {
    "name": "ipython",
    "version": 3
   },
   "file_extension": ".py",
   "mimetype": "text/x-python",
   "name": "python",
   "nbconvert_exporter": "python",
   "pygments_lexer": "ipython3",
   "version": "3.7.6"
  }
 },
 "nbformat": 4,
 "nbformat_minor": 4
}
