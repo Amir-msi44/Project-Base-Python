{
 "cells": [
  {
   "cell_type": "code",
   "execution_count": 210,
   "id": "45bd539d-7117-4d11-ace5-25b3700de47c",
   "metadata": {
    "tags": []
   },
   "outputs": [],
   "source": [
    "import random\n",
    "\n",
    "\n",
    "class RockPaperScissor():\n",
    "    def __init__(self):\n",
    "        self.choices = ['rock', 'paper', 'scissors']\n",
    "        \n",
    "    def get_player_choice(self):\n",
    "        player_choice = input(f'Please choose between {self.choices}:')\n",
    "        if player_choice.lower() in self.choices:\n",
    "            return player_choice.lower()\n",
    "        print('Not VALID choice! Try Again!')\n",
    "        return self.get_player_choice()\n",
    "    \n",
    "    def get_computer_choice(self):\n",
    "        return random.choice(self.choices)\n",
    "    \n",
    "    def decide_winner(self, player_choice, computer_choice):\n",
    "        if player_choice == computer_choice:\n",
    "            return \"It's a TIE!\"\n",
    "        \n",
    "        win_combos = [('rock' , 'scissors'), ('scissors', 'paper'), ('paper', 'rock')]\n",
    "        for i in win_combos:\n",
    "            if (player_choice == i[0]) & (computer_choice == i[1]):\n",
    "                return \"You Won!:))\"\n",
    "        return \"You Lost!:((\"\n",
    "            \n",
    "    def play(self):\n",
    "        player_choice = self.get_player_choice()\n",
    "        computer_choice = self.get_computer_choice()\n",
    "        winner = self.decide_winner(player_choice, computer_choice)\n",
    "        print(f'Computer Choice is {computer_choice}:')\n",
    "        print(winner)\n",
    "        "
   ]
  },
  {
   "cell_type": "code",
   "execution_count": 211,
   "id": "b6a2c5f8-dfdd-4042-b5c0-f1b5f3f14193",
   "metadata": {
    "tags": []
   },
   "outputs": [],
   "source": [
    "game = RockPaperScissor()"
   ]
  },
  {
   "cell_type": "code",
   "execution_count": 216,
   "id": "34cd080e-05c9-4fe1-a221-6807de1da716",
   "metadata": {
    "tags": []
   },
   "outputs": [
    {
     "name": "stdin",
     "output_type": "stream",
     "text": [
      "Please choose between ['rock', 'paper', 'scissors']: rock\n"
     ]
    },
    {
     "name": "stdout",
     "output_type": "stream",
     "text": [
      "Computer Choice is scissors:\n",
      "You Won!:))\n"
     ]
    },
    {
     "name": "stdin",
     "output_type": "stream",
     "text": [
      "Do you want to continue? (Enter any Key to continue or enter Q/q to quit) y\n",
      "Please choose between ['rock', 'paper', 'scissors']: rock\n"
     ]
    },
    {
     "name": "stdout",
     "output_type": "stream",
     "text": [
      "Computer Choice is scissors:\n",
      "You Won!:))\n"
     ]
    },
    {
     "name": "stdin",
     "output_type": "stream",
     "text": [
      "Do you want to continue? (Enter any Key to continue or enter Q/q to quit) Q\n"
     ]
    }
   ],
   "source": [
    "while True:\n",
    "    game.play()\n",
    "    continue_game = input('Do you want to continue? (Enter any Key to continue or enter Q/q to quit)')\n",
    "    if continue_game.lower() == 'q':\n",
    "        break"
   ]
  },
  {
   "cell_type": "code",
   "execution_count": null,
   "id": "b29f879c-3513-4c44-9777-a0dd3d6db06a",
   "metadata": {},
   "outputs": [],
   "source": []
  }
 ],
 "metadata": {
  "kernelspec": {
   "display_name": "Python 3 (ipykernel)",
   "language": "python",
   "name": "python3"
  },
  "language_info": {
   "codemirror_mode": {
    "name": "ipython",
    "version": 3
   },
   "file_extension": ".py",
   "mimetype": "text/x-python",
   "name": "python",
   "nbconvert_exporter": "python",
   "pygments_lexer": "ipython3",
   "version": "3.10.13"
  }
 },
 "nbformat": 4,
 "nbformat_minor": 5
}
