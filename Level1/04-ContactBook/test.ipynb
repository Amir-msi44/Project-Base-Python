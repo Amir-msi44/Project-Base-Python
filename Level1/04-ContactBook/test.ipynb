{
 "cells": [
  {
   "cell_type": "code",
   "execution_count": 26,
   "id": "88dea121-3dd2-4888-a3a0-f7ec57e7bfd8",
   "metadata": {
    "tags": []
   },
   "outputs": [],
   "source": [
    "from collections import defaultdict"
   ]
  },
  {
   "cell_type": "code",
   "execution_count": 125,
   "id": "f9228014-e9bc-43ed-ab83-685336034d5d",
   "metadata": {
    "tags": []
   },
   "outputs": [],
   "source": [
    "class ContactBook:\n",
    "    def __init__(self):\n",
    "        self.contacts = defaultdict(dict)\n",
    "        \n",
    "    def add_contact(self, name, phone, email=None):\n",
    "        if name in self.contacts:\n",
    "            return print('Contact Already Exists!')\n",
    "        \n",
    "        self.contacts[name]['phone'] = phone\n",
    "        self.contacts[name]['email'] = email\n",
    "    \n",
    "    def view_contact(self):\n",
    "        for name, info in self.contacts.items():\n",
    "            print(f'\\nName: {name}')  \n",
    "            print(f\"Phone: {info['phone']}\")\n",
    "            print(f\"Email: {info['email']}\")\n",
    "            print('-' * 50)\n",
    "            \n",
    "    def update_contact(self, name, phone=None, email=None):\n",
    "            if name in self.contacts:\n",
    "                self.contacts[name]['phone'] = phone\n",
    "                self.contacts[name]['email'] = email\n",
    "            \n",
    "            else:\n",
    "                return('Not Existed! Try to add the contact!')\n",
    "    \n",
    "    def delete_contact(self, name):\n",
    "        if name in self.contacts:\n",
    "            del self.contacts[name]\n",
    "            print('Deleted Successfully!')\n",
    "        \n",
    "        else:\n",
    "            print('Not Found!')"
   ]
  },
  {
   "cell_type": "code",
   "execution_count": 126,
   "id": "121a1361-3ce4-43d9-8cbd-240cdd887467",
   "metadata": {
    "tags": []
   },
   "outputs": [
    {
     "name": "stdout",
     "output_type": "stream",
     "text": [
      "\n",
      "Welcome to contact book apllication!\n",
      "1. Add\n",
      "2. Edit\n",
      "3. Delete\n",
      "4. View\n",
      "5. Quit\n"
     ]
    },
    {
     "name": "stdin",
     "output_type": "stream",
     "text": [
      "Please choose an option number: 1\n",
      "\n",
      "Enter Name: ali\n",
      "\n",
      "Enter Phone: 6565\n",
      "\n",
      "Enter Email: edgfrf\n"
     ]
    },
    {
     "name": "stdout",
     "output_type": "stream",
     "text": [
      "\n",
      "Welcome to contact book apllication!\n",
      "1. Add\n",
      "2. Edit\n",
      "3. Delete\n",
      "4. View\n",
      "5. Quit\n"
     ]
    },
    {
     "name": "stdin",
     "output_type": "stream",
     "text": [
      "Please choose an option number: 4\n"
     ]
    },
    {
     "name": "stdout",
     "output_type": "stream",
     "text": [
      "\n",
      "Name: ali\n",
      "Phone: 6565\n",
      "Email: edgfrf\n",
      "--------------------------------------------------\n",
      "\n",
      "Welcome to contact book apllication!\n",
      "1. Add\n",
      "2. Edit\n",
      "3. Delete\n",
      "4. View\n",
      "5. Quit\n"
     ]
    },
    {
     "name": "stdin",
     "output_type": "stream",
     "text": [
      "Please choose an option number: 5\n"
     ]
    },
    {
     "name": "stdout",
     "output_type": "stream",
     "text": [
      "Bye!\n"
     ]
    }
   ],
   "source": [
    "book = ContactBook()\n",
    "\n",
    "while True:\n",
    "    print('\\nWelcome to contact book apllication!')\n",
    "    print('1. Add')\n",
    "    print('2. Edit')\n",
    "    print('3. Delete')\n",
    "    print('4. View')\n",
    "    print('5. Quit')\n",
    "    \n",
    "    user_choice = input('Please choose an option number:')\n",
    "    \n",
    "    if user_choice == '5':\n",
    "        print('Bye!')\n",
    "        break\n",
    "    \n",
    "    elif user_choice == '1':\n",
    "        name = input('\\nEnter Name:')\n",
    "        phone = input('\\nEnter Phone:')\n",
    "        email = input('\\nEnter Email:')\n",
    "        \n",
    "        book.add_contact(name, phone, email)\n",
    "    \n",
    "    elif user_choice == '2':\n",
    "        name = input('\\nEnter Name:')\n",
    "        phone = input('\\nEnter Phone:')\n",
    "        email = input('\\nEnter Email:')\n",
    "        \n",
    "        book.update_contact(name, phone, email)\n",
    "    \n",
    "    elif user_choice == '3':\n",
    "        name = input('\\nEnter Name:')\n",
    "        \n",
    "        book.delete_contact(name)\n",
    "     \n",
    "    elif user_choice == '4':        \n",
    "        book.view_contact()"
   ]
  }
 ],
 "metadata": {
  "kernelspec": {
   "display_name": "Python 3 (ipykernel)",
   "language": "python",
   "name": "python3"
  },
  "language_info": {
   "codemirror_mode": {
    "name": "ipython",
    "version": 3
   },
   "file_extension": ".py",
   "mimetype": "text/x-python",
   "name": "python",
   "nbconvert_exporter": "python",
   "pygments_lexer": "ipython3",
   "version": "3.10.13"
  }
 },
 "nbformat": 4,
 "nbformat_minor": 5
}
